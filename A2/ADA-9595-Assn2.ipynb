{
 "cells": [
  {
   "cell_type": "code",
   "execution_count": 176,
   "metadata": {},
   "outputs": [
    {
     "name": "stdout",
     "output_type": "stream",
     "text": [
      "Using: cuda\n"
     ]
    }
   ],
   "source": [
    "from sklearn.preprocessing import LabelEncoder\n",
    "import torch\n",
    "import torchvision\n",
    "import PIL\n",
    "import numpy\n",
    "from torchvision import datasets, transforms\n",
    "from torch.utils.data import DataLoader, Dataset\n",
    "from torch import nn, optim\n",
    "import torch.nn.functional as F\n",
    "import os\n",
    "import pandas as pd\n",
    "import matplotlib.pyplot as plt\n",
    "from tqdm.notebook import tqdm\n",
    "\n",
    "device = torch.device(\"cuda\" if torch.cuda.is_available() else \"cpu\")\n",
    "print('Using:', device)"
   ]
  },
  {
   "cell_type": "code",
   "execution_count": 177,
   "metadata": {},
   "outputs": [],
   "source": [
    "# Pre processing and encoding of labels\n",
    "label_encoder = LabelEncoder()\n",
    "\n",
    "train_labels = pd.read_csv('train.csv', delimiter='\\t')\n",
    "test_labels = pd.read_csv('test.csv', delimiter='\\t')\n",
    "all_labels = pd.concat([train_labels['label'], test_labels['label']])\n",
    "label_encoder.fit(all_labels)\n",
    "train_labels['label'] = label_encoder.transform(train_labels['label'])\n",
    "test_labels['label'] = label_encoder.transform(test_labels['label'])"
   ]
  },
  {
   "cell_type": "code",
   "execution_count": 178,
   "metadata": {},
   "outputs": [],
   "source": [
    "class FashionDataset(Dataset):\n",
    "    def __init__(self, root, labels=None, transform=None):\n",
    "        self.labels = labels\n",
    "        self.img_path = os.path.join(root, 'archive/images/')\n",
    "        self.transform = transform\n",
    "\n",
    "    \n",
    "    def __len__(self):\n",
    "        return len(self.labels)\n",
    "    \n",
    "\n",
    "    def __getitem__(self, idx):\n",
    "        label = self.labels.iloc[idx, 1]\n",
    "        img_name = self.labels.iloc[idx, 0]\n",
    "        img = PIL.Image.open(self.img_path + str(img_name) + '.jpg')\n",
    "        \n",
    "        if img.mode != 'RGB':\n",
    "            img = img.convert('RGB')\n",
    "\n",
    "        if self.transform:\n",
    "            img = self.transform(img)\n",
    "        return img, label"
   ]
  },
  {
   "cell_type": "markdown",
   "metadata": {},
   "source": [
    "# The model of choice\n"
   ]
  },
  {
   "cell_type": "code",
   "execution_count": 179,
   "metadata": {},
   "outputs": [],
   "source": [
    "class CNN(nn.Module):\n",
    "    def __init__(self, num_classes=13):\n",
    "        super(CNN, self).__init__()\n",
    "        self.layer1 = nn.Sequential(\n",
    "            nn.Conv2d(3, 16, kernel_size=3, padding=1),\n",
    "            nn.BatchNorm2d(16),\n",
    "            nn.ReLU(),\n",
    "            nn.MaxPool2d(2)\n",
    "        )\n",
    "        self.layer2 = nn.Sequential(\n",
    "            nn.Conv2d(16, 32, kernel_size=3, padding=1),\n",
    "            nn.BatchNorm2d(32),\n",
    "            nn.ReLU(),\n",
    "            nn.MaxPool2d(2)\n",
    "        )\n",
    "        self.fc1 = nn.Linear(32 * 32 * 32, 160)\n",
    "        self.fc2 = nn.Linear(160, num_classes)\n",
    "        \n",
    "    def forward(self, x):\n",
    "        out = self.layer1(x)\n",
    "        out = self.layer2(out)\n",
    "        print(out.shape)\n",
    "        out = out.view(-1, 32 * 32 * 32)\n",
    "        out = F.relu(self.fc1(out))\n",
    "        out = self.fc2(out)\n",
    "        return out\n",
    "\n",
    "    "
   ]
  },
  {
   "cell_type": "markdown",
   "metadata": {},
   "source": [
    "# Part 1:\n",
    "Hyper Parameter Initialization"
   ]
  },
  {
   "cell_type": "code",
   "execution_count": 180,
   "metadata": {},
   "outputs": [],
   "source": [
    "lr = 0.001\n",
    "num_epochs = 5\n",
    "batch_size = 25\n",
    "momentum = 0.9\n",
    "optim = 'adam'\n",
    "transform = transforms.Compose([\n",
    "    transforms.ToTensor(),\n",
    "    transforms.Resize((128, 128)),\n",
    "    transforms.Normalize((0.485, 0.456, 0.406), (0.229, 0.224, 0.225)) # image net mean and std\n",
    "])"
   ]
  },
  {
   "cell_type": "markdown",
   "metadata": {},
   "source": [
    "Training"
   ]
  },
  {
   "cell_type": "code",
   "execution_count": 181,
   "metadata": {},
   "outputs": [
    {
     "name": "stdout",
     "output_type": "stream",
     "text": [
      "Initializing Dataset and DataLoader\n",
      "Initializing Model\n",
      "Training Model\n",
      "Epoch 1/5\n"
     ]
    },
    {
     "data": {
      "application/vnd.jupyter.widget-view+json": {
       "model_id": "18015e4bf2124780bca0c93ae02db4bf",
       "version_major": 2,
       "version_minor": 0
      },
      "text/plain": [
       "  0%|          | 0/1618 [00:00<?, ?it/s]"
      ]
     },
     "metadata": {},
     "output_type": "display_data"
    },
    {
     "name": "stdout",
     "output_type": "stream",
     "text": [
      "torch.Size([25, 32, 32, 32])\n",
      "torch.Size([25, 32, 32, 32])\n",
      "torch.Size([25, 32, 32, 32])\n",
      "torch.Size([25, 32, 32, 32])\n",
      "torch.Size([25, 32, 32, 32])\n",
      "torch.Size([25, 32, 32, 32])\n",
      "torch.Size([25, 32, 32, 32])\n",
      "torch.Size([25, 32, 32, 32])\n",
      "torch.Size([25, 32, 32, 32])\n",
      "torch.Size([25, 32, 32, 32])\n",
      "torch.Size([25, 32, 32, 32])\n",
      "torch.Size([25, 32, 32, 32])\n",
      "torch.Size([25, 32, 32, 32])\n",
      "torch.Size([25, 32, 32, 32])\n",
      "torch.Size([25, 32, 32, 32])\n",
      "torch.Size([25, 32, 32, 32])\n",
      "torch.Size([25, 32, 32, 32])\n",
      "torch.Size([25, 32, 32, 32])\n",
      "torch.Size([25, 32, 32, 32])\n",
      "torch.Size([25, 32, 32, 32])\n",
      "torch.Size([25, 32, 32, 32])\n",
      "torch.Size([25, 32, 32, 32])\n",
      "torch.Size([25, 32, 32, 32])\n",
      "torch.Size([25, 32, 32, 32])\n",
      "torch.Size([25, 32, 32, 32])\n",
      "torch.Size([25, 32, 32, 32])\n",
      "torch.Size([25, 32, 32, 32])\n",
      "torch.Size([25, 32, 32, 32])\n",
      "torch.Size([25, 32, 32, 32])\n",
      "torch.Size([25, 32, 32, 32])\n",
      "torch.Size([25, 32, 32, 32])\n",
      "torch.Size([25, 32, 32, 32])\n",
      "torch.Size([25, 32, 32, 32])\n",
      "torch.Size([25, 32, 32, 32])\n",
      "torch.Size([25, 32, 32, 32])\n",
      "torch.Size([25, 32, 32, 32])\n",
      "torch.Size([25, 32, 32, 32])\n",
      "torch.Size([25, 32, 32, 32])\n",
      "torch.Size([25, 32, 32, 32])\n",
      "torch.Size([25, 32, 32, 32])\n",
      "torch.Size([25, 32, 32, 32])\n",
      "torch.Size([25, 32, 32, 32])\n",
      "torch.Size([25, 32, 32, 32])\n",
      "torch.Size([25, 32, 32, 32])\n",
      "torch.Size([25, 32, 32, 32])\n",
      "torch.Size([25, 32, 32, 32])\n",
      "torch.Size([25, 32, 32, 32])\n",
      "torch.Size([25, 32, 32, 32])\n",
      "torch.Size([25, 32, 32, 32])\n",
      "torch.Size([25, 32, 32, 32])\n",
      "torch.Size([25, 32, 32, 32])\n",
      "torch.Size([25, 32, 32, 32])\n",
      "torch.Size([25, 32, 32, 32])\n"
     ]
    },
    {
     "ename": "KeyboardInterrupt",
     "evalue": "",
     "output_type": "error",
     "traceback": [
      "\u001b[1;31m---------------------------------------------------------------------------\u001b[0m",
      "\u001b[1;31mKeyboardInterrupt\u001b[0m                         Traceback (most recent call last)",
      "Cell \u001b[1;32mIn[181], line 31\u001b[0m\n\u001b[0;32m     29\u001b[0m model\u001b[38;5;241m.\u001b[39mtrain()\n\u001b[0;32m     30\u001b[0m \u001b[38;5;28;01mfor\u001b[39;00m i, (img, label) \u001b[38;5;129;01min\u001b[39;00m \u001b[38;5;28menumerate\u001b[39m(tqdm(train_loader, total\u001b[38;5;241m=\u001b[39m\u001b[38;5;28mlen\u001b[39m(train_loader))):\n\u001b[1;32m---> 31\u001b[0m     img \u001b[38;5;241m=\u001b[39m img\u001b[38;5;241m.\u001b[39mto(device)\n\u001b[0;32m     32\u001b[0m     label \u001b[38;5;241m=\u001b[39m label\u001b[38;5;241m.\u001b[39mto(device)\u001b[38;5;241m.\u001b[39mlong()\n\u001b[0;32m     34\u001b[0m     optimizer\u001b[38;5;241m.\u001b[39mzero_grad()\n",
      "\u001b[1;31mKeyboardInterrupt\u001b[0m: "
     ]
    }
   ],
   "source": [
    "# Initialize the Dataset and DataLoader\n",
    "print ('Initializing Dataset and DataLoader')\n",
    "train_dataset = FashionDataset('', labels=train_labels, transform=transform)\n",
    "test_dataset = FashionDataset('', labels=test_labels, transform=transform)\n",
    "\n",
    "train_loader = DataLoader(train_dataset, batch_size=batch_size, shuffle=True)\n",
    "test_loader = DataLoader(test_dataset, batch_size=batch_size, shuffle=True)\n",
    "\n",
    "print ('Initializing Model')\n",
    "\n",
    "model = CNN().to(device)\n",
    "\n",
    "\n",
    "criterion = nn.CrossEntropyLoss()\n",
    "if optim == 'adam':\n",
    "    optimizer = torch.optim.Adam(model.parameters(), lr=lr)\n",
    "if optim == 'sgd':\n",
    "    optimizer = torch.optim.SGD(model.parameters(), lr=lr, momentum=momentum)\n",
    "\n",
    "best_acc = 0\n",
    "\n",
    "print ('Training Model')\n",
    "for epoch in range(num_epochs):\n",
    "\n",
    "    running_loss = 0.0\n",
    "    running_acc = 0.0\n",
    "\n",
    "    print(f'Epoch {epoch + 1}/{num_epochs}')\n",
    "    model.train()\n",
    "    for i, (img, label) in enumerate(tqdm(train_loader, total=len(train_loader))):\n",
    "        img = img.to(device)\n",
    "        label = label.to(device).long()\n",
    "\n",
    "        optimizer.zero_grad()\n",
    "        output = model(img)\n",
    "\n",
    "        loss = criterion(output, label)\n",
    "\n",
    "        running_loss += loss.item() * img.size(0)\n",
    "\n",
    "        loss.backward()\n",
    "        optimizer.step()\n",
    "\n",
    "        \n",
    "    model.eval()\n",
    "    correct = 0\n",
    "    with torch.no_grad():\n",
    "        for img, label in tqdm(test_loader):\n",
    "            img = img.to(device)\n",
    "            label = label.to(device).long()\n",
    "            output = model(img)\n",
    "            _, preds = torch.max(output, 1)\n",
    "\n",
    "            pred_first = preds[0].cpu().numpy()\n",
    "            label_first = label[0].cpu().numpy()\n",
    "\n",
    "            correct += torch.sum(preds == label.data)\n",
    "     \n",
    "\n",
    "\n",
    "    acc =  correct.double() / len(test_dataset)\n",
    "    print(f'Accuracy: {acc}')\n",
    "    if acc > best_acc:\n",
    "        best_acc = acc\n",
    "        print (f'Saving best model')\n",
    "        torch.save(model.state_dict(), 'best_model.pth')\n",
    "        "
   ]
  },
  {
   "cell_type": "markdown",
   "metadata": {},
   "source": [
    "# Part 2\n",
    "New Hyper Parameters and Data Augmentation"
   ]
  },
  {
   "cell_type": "code",
   "execution_count": null,
   "metadata": {},
   "outputs": [],
   "source": []
  }
 ],
 "metadata": {
  "kernelspec": {
   "display_name": "data_analytics",
   "language": "python",
   "name": "python3"
  },
  "language_info": {
   "codemirror_mode": {
    "name": "ipython",
    "version": 3
   },
   "file_extension": ".py",
   "mimetype": "text/x-python",
   "name": "python",
   "nbconvert_exporter": "python",
   "pygments_lexer": "ipython3",
   "version": "3.11.7"
  }
 },
 "nbformat": 4,
 "nbformat_minor": 2
}
